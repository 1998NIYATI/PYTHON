{
 "cells": [
  {
   "cell_type": "code",
   "execution_count": 1,
   "id": "37af0ef6",
   "metadata": {},
   "outputs": [],
   "source": [
    "import numpy as np"
   ]
  },
  {
   "cell_type": "code",
   "execution_count": 3,
   "id": "8b98a24c",
   "metadata": {},
   "outputs": [],
   "source": [
    "arr=np.array([7,8,9])"
   ]
  },
  {
   "cell_type": "code",
   "execution_count": 4,
   "id": "42bf152c",
   "metadata": {},
   "outputs": [
    {
     "data": {
      "text/plain": [
       "array([7, 8, 9])"
      ]
     },
     "execution_count": 4,
     "metadata": {},
     "output_type": "execute_result"
    }
   ],
   "source": [
    "arr"
   ]
  },
  {
   "cell_type": "code",
   "execution_count": 7,
   "id": "ff8c0caf",
   "metadata": {},
   "outputs": [],
   "source": [
    "#creating rank 2 array\n",
    "arr1=np.array([[1,2,3,4],[5,6,7,8]])"
   ]
  },
  {
   "cell_type": "code",
   "execution_count": 8,
   "id": "94975246",
   "metadata": {},
   "outputs": [
    {
     "data": {
      "text/plain": [
       "array([[1, 2, 3, 4],\n",
       "       [5, 6, 7, 8]])"
      ]
     },
     "execution_count": 8,
     "metadata": {},
     "output_type": "execute_result"
    }
   ],
   "source": [
    "arr1"
   ]
  },
  {
   "cell_type": "code",
   "execution_count": 11,
   "id": "d5bed0f6",
   "metadata": {},
   "outputs": [
    {
     "name": "stdout",
     "output_type": "stream",
     "text": [
      "Initial Array: \n",
      "[[-1.   2.   0.   4. ]\n",
      " [ 4.  -0.5  6.   0. ]\n",
      " [ 2.6  0.   7.   8. ]\n",
      " [ 3.  -7.   4.   2. ]]\n"
     ]
    }
   ],
   "source": [
    "# Initial Array\n",
    "arr = np.array([[-1, 2, 0, 4],\n",
    "                [4, -0.5, 6, 0],\n",
    "                [2.6, 0, 7, 8],\n",
    "                [3, -7, 4, 2.0]])\n",
    "print(\"Initial Array: \")\n",
    "print(arr)\n"
   ]
  },
  {
   "cell_type": "code",
   "execution_count": 15,
   "id": "c632151d",
   "metadata": {},
   "outputs": [
    {
     "name": "stdout",
     "output_type": "stream",
     "text": [
      "[[-1.  0.]\n",
      " [ 4.  6.]]\n",
      "Array with first 2 rows and alternate columns(0 and 2):\n",
      " [[-1.  0.]\n",
      " [ 4.  6.]]\n"
     ]
    }
   ],
   "source": [
    "# Printing a range of Array\n",
    "# with the use of slicing method\n",
    "sliced_arr = arr[:2, ::2]\n",
    "print(sliced_arr)\n",
    "print (\"Array with first 2 rows and\"\n",
    "    \" alternate columns(0 and 2):\\n\", sliced_arr)"
   ]
  },
  {
   "cell_type": "code",
   "execution_count": 16,
   "id": "6a593f44",
   "metadata": {},
   "outputs": [
    {
     "name": "stdout",
     "output_type": "stream",
     "text": [
      "\n",
      "Elements at indices (1, 3), (1, 2), (0, 1), (3, 0):\n",
      " [0. 6. 2. 3.]\n"
     ]
    }
   ],
   "source": [
    "# Printing elements at specific Indices\n",
    "Index_arr = arr[[1, 1, 0, 3], \n",
    "                [3, 2, 1, 0]]\n",
    "print (\"\\nElements at indices (1, 3), \"\n",
    "    \"(1, 2), (0, 1), (3, 0):\\n\", Index_arr)"
   ]
  },
  {
   "cell_type": "markdown",
   "id": "890caba1",
   "metadata": {},
   "source": [
    "# Python program to demonstrate\n",
    "# basic operations on single array\n",
    " "
   ]
  },
  {
   "cell_type": "code",
   "execution_count": 17,
   "id": "c77605e1",
   "metadata": {},
   "outputs": [],
   "source": [
    "# Defining Array 1\n",
    "a = np.array([[1, 2],\n",
    "              [3, 4]])"
   ]
  },
  {
   "cell_type": "code",
   "execution_count": 18,
   "id": "08e43bea",
   "metadata": {},
   "outputs": [],
   "source": [
    "# Defining Array 2\n",
    "b = np.array([[4, 3],\n",
    "              [2, 1]])\n",
    "               "
   ]
  },
  {
   "cell_type": "code",
   "execution_count": 19,
   "id": "ce4d8962",
   "metadata": {},
   "outputs": [
    {
     "name": "stdout",
     "output_type": "stream",
     "text": [
      "Adding 1 to every element: [[2 3]\n",
      " [4 5]]\n"
     ]
    }
   ],
   "source": [
    "# Adding 1 to every element\n",
    "print (\"Adding 1 to every element:\", a + 1)\n",
    " "
   ]
  },
  {
   "cell_type": "code",
   "execution_count": 21,
   "id": "6cf92923",
   "metadata": {},
   "outputs": [
    {
     "name": "stdout",
     "output_type": "stream",
     "text": [
      "[[10  9]\n",
      " [ 8  7]]\n"
     ]
    }
   ],
   "source": [
    "print(b+6)"
   ]
  },
  {
   "cell_type": "code",
   "execution_count": 22,
   "id": "e33f9c35",
   "metadata": {},
   "outputs": [
    {
     "name": "stdout",
     "output_type": "stream",
     "text": [
      "\n",
      "Subtracting 2 from each element: [[ 2  1]\n",
      " [ 0 -1]]\n"
     ]
    }
   ],
   "source": [
    "# Subtracting 2 from each element\n",
    "print (\"\\nSubtracting 2 from each element:\", b - 2)"
   ]
  },
  {
   "cell_type": "code",
   "execution_count": 23,
   "id": "f8959eb8",
   "metadata": {},
   "outputs": [
    {
     "name": "stdout",
     "output_type": "stream",
     "text": [
      "\n",
      "Sum of all array elements:  10\n"
     ]
    }
   ],
   "source": [
    "# sum of array elements\n",
    "# Performing Unary operations\n",
    "print (\"\\nSum of all array \"\n",
    "       \"elements: \", a.sum())"
   ]
  },
  {
   "cell_type": "code",
   "execution_count": 24,
   "id": "43b4e6d1",
   "metadata": {},
   "outputs": [
    {
     "name": "stdout",
     "output_type": "stream",
     "text": [
      "10\n"
     ]
    }
   ],
   "source": [
    "print(b.sum())"
   ]
  },
  {
   "cell_type": "code",
   "execution_count": 25,
   "id": "2d7f6570",
   "metadata": {},
   "outputs": [
    {
     "name": "stdout",
     "output_type": "stream",
     "text": [
      "\n",
      "Array sum:\n",
      " [[5 5]\n",
      " [5 5]]\n"
     ]
    }
   ],
   "source": [
    "# Adding two arrays\n",
    "# Performing Binary operations\n",
    "print (\"\\nArray sum:\\n\", a + b)"
   ]
  },
  {
   "cell_type": "code",
   "execution_count": 26,
   "id": "c5ebbe34",
   "metadata": {},
   "outputs": [
    {
     "name": "stdout",
     "output_type": "stream",
     "text": [
      "[[5 5]\n",
      " [5 5]]\n"
     ]
    }
   ],
   "source": [
    "print(a+b)"
   ]
  },
  {
   "cell_type": "code",
   "execution_count": 29,
   "id": "24b5bcd7",
   "metadata": {},
   "outputs": [
    {
     "name": "stdout",
     "output_type": "stream",
     "text": [
      "Array created using passed list:\n",
      " [[1. 2. 4.]\n",
      " [5. 8. 7.]]\n"
     ]
    }
   ],
   "source": [
    "# Creating array from list with type float\n",
    "a = np.array([[1, 2, 4], [5, 8, 7]], dtype = 'float')\n",
    "print (\"Array created using passed list:\\n\", a)\n",
    "  "
   ]
  },
  {
   "cell_type": "code",
   "execution_count": 36,
   "id": "81643a62",
   "metadata": {},
   "outputs": [
    {
     "name": "stdout",
     "output_type": "stream",
     "text": [
      "Array created using passed list:\n",
      " [[1. 2. 4.]\n",
      " [5. 8. 7.]]\n"
     ]
    }
   ],
   "source": [
    "# Creating array from list with type float\n",
    "a = np.array([[1, 2, 4], [5, 8, 7]], dtype = 'float')\n",
    "print (\"Array created using passed list:\\n\", a)\n",
    "  "
   ]
  },
  {
   "cell_type": "code",
   "execution_count": 32,
   "id": "039522d5",
   "metadata": {},
   "outputs": [
    {
     "name": "stdout",
     "output_type": "stream",
     "text": [
      "\n",
      "An array initialized with all zeros:\n",
      " [[0. 0. 0. 0.]\n",
      " [0. 0. 0. 0.]\n",
      " [0. 0. 0. 0.]]\n"
     ]
    }
   ],
   "source": [
    "# Creating a 3X4 array with all zeros\n",
    "c = np.zeros((3, 4))\n",
    "print (\"\\nAn array initialized with all zeros:\\n\", c)"
   ]
  },
  {
   "cell_type": "code",
   "execution_count": 33,
   "id": "215a9640",
   "metadata": {},
   "outputs": [
    {
     "name": "stdout",
     "output_type": "stream",
     "text": [
      "\n",
      "An array initialized with all 6s.Array type is complex:\n",
      " [[6.+0.j 6.+0.j 6.+0.j]\n",
      " [6.+0.j 6.+0.j 6.+0.j]\n",
      " [6.+0.j 6.+0.j 6.+0.j]]\n"
     ]
    }
   ],
   "source": [
    "# Create a constant value array of complex type\n",
    "d = np.full((3, 3), 6, dtype = 'complex')\n",
    "print (\"\\nAn array initialized with all 6s.\" \n",
    "            \"Array type is complex:\\n\", d)"
   ]
  },
  {
   "cell_type": "code",
   "execution_count": 37,
   "id": "492576e3",
   "metadata": {},
   "outputs": [
    {
     "name": "stdout",
     "output_type": "stream",
     "text": [
      "\n",
      "A random array:\n",
      " [[0.98709786 0.67630467]\n",
      " [0.73713318 0.50681904]]\n"
     ]
    }
   ],
   "source": [
    "# Create an array with random values\n",
    "e = np.random.random((2, 2))\n",
    "print (\"\\nA random array:\\n\", e)"
   ]
  },
  {
   "cell_type": "code",
   "execution_count": 38,
   "id": "dcc1ee9d",
   "metadata": {},
   "outputs": [
    {
     "name": "stdout",
     "output_type": "stream",
     "text": [
      "\n",
      "A sequential array with steps of 5:\n",
      " [ 0  5 10 15 20 25]\n"
     ]
    }
   ],
   "source": [
    "# Create a sequence of integers \n",
    "# from 0 to 30 with steps of 5\n",
    "f = np.arange(0, 30, 5)\n",
    "print (\"\\nA sequential array with steps of 5:\\n\", f)"
   ]
  },
  {
   "cell_type": "code",
   "execution_count": 39,
   "id": "beb7391e",
   "metadata": {},
   "outputs": [
    {
     "name": "stdout",
     "output_type": "stream",
     "text": [
      "\n",
      "A sequential array with 10 values between0 and 5:\n",
      " [0.         0.55555556 1.11111111 1.66666667 2.22222222 2.77777778\n",
      " 3.33333333 3.88888889 4.44444444 5.        ]\n"
     ]
    }
   ],
   "source": [
    "# Create a sequence of 10 values in range 0 to 5\n",
    "g = np.linspace(0, 5, 10)\n",
    "print (\"\\nA sequential array with 10 values between\"\n",
    "                                        \"0 and 5:\\n\", g)"
   ]
  },
  {
   "cell_type": "code",
   "execution_count": 41,
   "id": "3b06e480",
   "metadata": {},
   "outputs": [],
   "source": [
    "# Reshaping 3X4 array to 2X2X3 array\n",
    "arr = np.array([[1, 2, 3, 4],\n",
    "                [5, 2, 4, 2],\n",
    "                [1, 2, 0, 1]])\n",
    "  \n",
    "newarr = arr.reshape(2, 2, 3)"
   ]
  },
  {
   "cell_type": "code",
   "execution_count": 42,
   "id": "413ed202",
   "metadata": {},
   "outputs": [
    {
     "data": {
      "text/plain": [
       "array([[[1, 2, 3],\n",
       "        [4, 5, 2]],\n",
       "\n",
       "       [[4, 2, 1],\n",
       "        [2, 0, 1]]])"
      ]
     },
     "execution_count": 42,
     "metadata": {},
     "output_type": "execute_result"
    }
   ],
   "source": [
    "newarr"
   ]
  },
  {
   "cell_type": "raw",
   "id": "bee59c24",
   "metadata": {},
   "source": [
    "Stacking: Several arrays can be stacked together along different axes.\n",
    "np.vstack: To stack arrays along vertical axis.\n",
    "np.hstack: To stack arrays along horizontal axis.\n",
    "np.column_stack: To stack 1-D arrays as columns into 2-D arrays.\n",
    "np.concatenate: To stack arrays along specified axis (axis is passed as argument)."
   ]
  },
  {
   "cell_type": "code",
   "execution_count": 51,
   "id": "95a4963c",
   "metadata": {},
   "outputs": [
    {
     "data": {
      "text/plain": [
       "array([[1, 2, 3],\n",
       "       [9, 8, 7],\n",
       "       [4, 5, 6],\n",
       "       [2, 3, 4]])"
      ]
     },
     "execution_count": 51,
     "metadata": {},
     "output_type": "execute_result"
    }
   ],
   "source": [
    "X=np.array([[1,2,3],[9,8,7]])\n",
    "Y=np.array([[4,5,6],[2,3,4]])\n",
    "new_arr=np.vstack((X,Y))\n",
    "new_arr"
   ]
  },
  {
   "cell_type": "code",
   "execution_count": 52,
   "id": "858953fd",
   "metadata": {},
   "outputs": [
    {
     "data": {
      "text/plain": [
       "array([[1, 2, 3, 4, 5, 6],\n",
       "       [9, 8, 7, 2, 3, 4]])"
      ]
     },
     "execution_count": 52,
     "metadata": {},
     "output_type": "execute_result"
    }
   ],
   "source": [
    "new_arr=np.hstack((X,Y))\n",
    "new_arr\n"
   ]
  },
  {
   "cell_type": "code",
   "execution_count": 54,
   "id": "88a54737",
   "metadata": {},
   "outputs": [
    {
     "name": "stdout",
     "output_type": "stream",
     "text": [
      "\n",
      "Column stacking:\n",
      " [[1 2 3 5]\n",
      " [9 8 7 6]]\n"
     ]
    }
   ],
   "source": [
    "Z=[5,6]\n",
    "# stacking columns\n",
    "print(\"\\nColumn stacking:\\n\", np.column_stack((X, Z)))"
   ]
  },
  {
   "cell_type": "code",
   "execution_count": 55,
   "id": "dd2609ed",
   "metadata": {},
   "outputs": [
    {
     "name": "stdout",
     "output_type": "stream",
     "text": [
      "\n",
      "Concatenating to 2nd axis:\n",
      " [[1 2 3 4 5 6]\n",
      " [9 8 7 2 3 4]]\n"
     ]
    }
   ],
   "source": [
    "# concatenation method \n",
    "print(\"\\nConcatenating to 2nd axis:\\n\", np.concatenate((X, Y), 1))"
   ]
  },
  {
   "cell_type": "raw",
   "id": "43348446",
   "metadata": {},
   "source": [
    "Data type object"
   ]
  },
  {
   "cell_type": "code",
   "execution_count": 56,
   "id": "3ff5a7be",
   "metadata": {},
   "outputs": [
    {
     "name": "stdout",
     "output_type": "stream",
     "text": [
      "int32\n"
     ]
    }
   ],
   "source": [
    "# Integer datatype\n",
    "x = np.array([1, 2])  \n",
    "print(x.dtype)"
   ]
  },
  {
   "cell_type": "code",
   "execution_count": 57,
   "id": "2855cff8",
   "metadata": {},
   "outputs": [
    {
     "name": "stdout",
     "output_type": "stream",
     "text": [
      "\n",
      "Float Datatype: \n",
      "float64\n"
     ]
    }
   ],
   "source": [
    "# Float datatype\n",
    "x = np.array([1.0, 2.0]) \n",
    "print(\"\\nFloat Datatype: \")\n",
    "print(x.dtype)  "
   ]
  },
  {
   "cell_type": "code",
   "execution_count": 58,
   "id": "df9687dc",
   "metadata": {},
   "outputs": [
    {
     "name": "stdout",
     "output_type": "stream",
     "text": [
      "\n",
      "Forcing a Datatype: \n",
      "int64\n"
     ]
    }
   ],
   "source": [
    "# Forced Datatype\n",
    "x = np.array([1, 2], dtype = np.int64)   \n",
    "print(\"\\nForcing a Datatype: \")\n",
    "print(x.dtype)"
   ]
  },
  {
   "cell_type": "raw",
   "id": "3483ec92",
   "metadata": {},
   "source": [
    "Math Operations on DataType array"
   ]
  },
  {
   "cell_type": "code",
   "execution_count": 62,
   "id": "4935aa57",
   "metadata": {},
   "outputs": [
    {
     "data": {
      "text/plain": [
       "array([[2, 3],\n",
       "       [4, 6]])"
      ]
     },
     "execution_count": 62,
     "metadata": {},
     "output_type": "execute_result"
    }
   ],
   "source": [
    "arr1=np.array([[7,8],[6,9]],dtype=np.float64)\n",
    "arr2=np.array([[2,3],[4,6]],dtype=np.int)\n"
   ]
  },
  {
   "cell_type": "code",
   "execution_count": 63,
   "id": "7995cde8",
   "metadata": {},
   "outputs": [
    {
     "data": {
      "text/plain": [
       "array([[7., 8.],\n",
       "       [6., 9.]])"
      ]
     },
     "execution_count": 63,
     "metadata": {},
     "output_type": "execute_result"
    }
   ],
   "source": [
    "arr1"
   ]
  },
  {
   "cell_type": "code",
   "execution_count": 64,
   "id": "53bc1070",
   "metadata": {},
   "outputs": [
    {
     "data": {
      "text/plain": [
       "array([[2, 3],\n",
       "       [4, 6]])"
      ]
     },
     "execution_count": 64,
     "metadata": {},
     "output_type": "execute_result"
    }
   ],
   "source": [
    "arr2"
   ]
  },
  {
   "cell_type": "code",
   "execution_count": 67,
   "id": "a826053d",
   "metadata": {},
   "outputs": [
    {
     "data": {
      "text/plain": [
       "array([[ 9., 11.],\n",
       "       [10., 15.]])"
      ]
     },
     "execution_count": 67,
     "metadata": {},
     "output_type": "execute_result"
    }
   ],
   "source": [
    "#addition of array\n",
    "sum=np.add(arr1,arr2)\n",
    "sum"
   ]
  },
  {
   "cell_type": "code",
   "execution_count": 69,
   "id": "f6c6dd88",
   "metadata": {},
   "outputs": [
    {
     "name": "stdout",
     "output_type": "stream",
     "text": [
      "[[ 9. 11.]\n",
      " [10. 15.]]\n"
     ]
    }
   ],
   "source": [
    "print(arr1+arr2)"
   ]
  },
  {
   "cell_type": "code",
   "execution_count": 68,
   "id": "7b226ae1",
   "metadata": {},
   "outputs": [
    {
     "name": "stdout",
     "output_type": "stream",
     "text": [
      "\n",
      "Addition of Array elements: \n",
      "30.0\n"
     ]
    }
   ],
   "source": [
    "# Addition of all Array elements\n",
    "# using predefined sum method\n",
    "Sum1 = np.sum(arr1)\n",
    "print(\"\\nAddition of Array elements: \")\n",
    "print(Sum1)"
   ]
  },
  {
   "cell_type": "code",
   "execution_count": 70,
   "id": "9951b57c",
   "metadata": {},
   "outputs": [
    {
     "name": "stdout",
     "output_type": "stream",
     "text": [
      "\n",
      "Square root of Array1 elements: \n",
      "[[2.64575131 2.82842712]\n",
      " [2.44948974 3.        ]]\n"
     ]
    }
   ],
   "source": [
    "# Square root of Array\n",
    "Sqrt = np.sqrt(arr1)\n",
    "print(\"\\nSquare root of Array1 elements: \")\n",
    "print(Sqrt)\n",
    " \n"
   ]
  },
  {
   "cell_type": "code",
   "execution_count": 71,
   "id": "c0744f38",
   "metadata": {},
   "outputs": [
    {
     "name": "stdout",
     "output_type": "stream",
     "text": [
      "\n",
      "Transpose of Array: \n",
      "[[7. 6.]\n",
      " [8. 9.]]\n"
     ]
    }
   ],
   "source": [
    "# Transpose of Array\n",
    "# using In-built function 'T'\n",
    "Trans_arr = arr1.T\n",
    "print(\"\\nTranspose of Array: \")\n",
    "print(Trans_arr)"
   ]
  },
  {
   "cell_type": "markdown",
   "id": "5527c295",
   "metadata": {},
   "source": [
    "# INDEXING"
   ]
  },
  {
   "cell_type": "code",
   "execution_count": 72,
   "id": "20534364",
   "metadata": {},
   "outputs": [
    {
     "name": "stdout",
     "output_type": "stream",
     "text": [
      "\n",
      " A sequential array with a negative step: \n",
      " [10  8  6  4  2]\n"
     ]
    }
   ],
   "source": [
    "# Create a sequence of integers from 10 to 1 with a step of -2\n",
    "a = np.arange(10, 1, -2) \n",
    "print(\"\\n A sequential array with a negative step: \\n\",a)"
   ]
  },
  {
   "cell_type": "code",
   "execution_count": 74,
   "id": "a6a103c4",
   "metadata": {},
   "outputs": [
    {
     "data": {
      "text/plain": [
       "array([4, 8, 6])"
      ]
     },
     "execution_count": 74,
     "metadata": {},
     "output_type": "execute_result"
    }
   ],
   "source": [
    "# Indexes are specified inside the np.array method.\n",
    "newarr = a[np.array([3, 1, 2 ])]\n",
    "newarr"
   ]
  },
  {
   "cell_type": "code",
   "execution_count": 77,
   "id": "d93d6ce1",
   "metadata": {},
   "outputs": [
    {
     "name": "stdout",
     "output_type": "stream",
     "text": [
      "\n",
      " Elements are : \n",
      " [2 4 6]\n"
     ]
    }
   ],
   "source": [
    "# NumPy array with elements from 1 to 9\n",
    "x = np.array([1, 2, 3, 4, 5, 6, 7, 8, 9])\n",
    " \n",
    "# Index values can be negative.\n",
    "arr = x[np.array([1, 3, -4])]\n",
    "print(\"\\n Elements are : \\n\",arr)"
   ]
  },
  {
   "cell_type": "code",
   "execution_count": 79,
   "id": "bb741eff",
   "metadata": {},
   "outputs": [
    {
     "data": {
      "text/plain": [
       "array([ 0,  1,  2,  3,  4,  5,  6,  7,  8,  9, 10, 11, 12, 13, 14, 15, 16,\n",
       "       17, 18, 19])"
      ]
     },
     "execution_count": 79,
     "metadata": {},
     "output_type": "execute_result"
    }
   ],
   "source": [
    "a=np.arange(20)\n",
    "a"
   ]
  },
  {
   "cell_type": "code",
   "execution_count": 81,
   "id": "15262d7d",
   "metadata": {},
   "outputs": [
    {
     "data": {
      "text/plain": [
       "array([12, 13, 14, 15, 16])"
      ]
     },
     "execution_count": 81,
     "metadata": {},
     "output_type": "execute_result"
    }
   ],
   "source": [
    "a[-8:17:1] # a[start:stop:step]"
   ]
  },
  {
   "cell_type": "code",
   "execution_count": 83,
   "id": "d02bdf4f",
   "metadata": {},
   "outputs": [
    {
     "name": "stdout",
     "output_type": "stream",
     "text": [
      "\n",
      " a[10:]  =  [10 11 12 13 14 15 16 17 18 19]\n"
     ]
    }
   ],
   "source": [
    "#The : operator means all elements till the end.\n",
    "print(\"\\n a[10:]  = \",a[10:])"
   ]
  },
  {
   "cell_type": "code",
   "execution_count": 84,
   "id": "6ea66b8d",
   "metadata": {},
   "outputs": [
    {
     "data": {
      "text/plain": [
       "array([ 8,  9, 10, 11, 12, 13, 14, 15, 16, 17, 18])"
      ]
     },
     "execution_count": 84,
     "metadata": {},
     "output_type": "execute_result"
    }
   ],
   "source": [
    "a[8:-1]"
   ]
  },
  {
   "cell_type": "markdown",
   "id": "48b02a80",
   "metadata": {},
   "source": [
    "# Silicing & Indexing"
   ]
  },
  {
   "cell_type": "code",
   "execution_count": 88,
   "id": "bcf512e3",
   "metadata": {},
   "outputs": [],
   "source": [
    "#A 3-Dimensional array\n",
    "a = np.array([[0, 1, 2, 3, 4, 5],\n",
    "              [6, 7, 8, 9, 10, 11],\n",
    "              [12, 13, 14, 15, 16, 17],\n",
    "              [18, 19, 20, 21, 22, 23],\n",
    "              [24, 25, 26, 27, 28, 29],\n",
    "              [30, 31, 32, 33, 34, 35]])\n"
   ]
  },
  {
   "cell_type": "code",
   "execution_count": 89,
   "id": "7980d821",
   "metadata": {},
   "outputs": [
    {
     "name": "stdout",
     "output_type": "stream",
     "text": [
      "\n",
      " Array is:\n",
      "  [[ 0  1  2  3  4  5]\n",
      " [ 6  7  8  9 10 11]\n",
      " [12 13 14 15 16 17]\n",
      " [18 19 20 21 22 23]\n",
      " [24 25 26 27 28 29]\n",
      " [30 31 32 33 34 35]]\n"
     ]
    }
   ],
   "source": [
    "print(\"\\n Array is:\\n \",a)"
   ]
  },
  {
   "cell_type": "code",
   "execution_count": 90,
   "id": "15072771",
   "metadata": {},
   "outputs": [
    {
     "data": {
      "text/plain": [
       "array([3, 4])"
      ]
     },
     "execution_count": 90,
     "metadata": {},
     "output_type": "execute_result"
    }
   ],
   "source": [
    "a[0, 3:5]"
   ]
  },
  {
   "cell_type": "code",
   "execution_count": 91,
   "id": "e351658b",
   "metadata": {},
   "outputs": [
    {
     "data": {
      "text/plain": [
       "array([[28, 29],\n",
       "       [34, 35]])"
      ]
     },
     "execution_count": 91,
     "metadata": {},
     "output_type": "execute_result"
    }
   ],
   "source": [
    "a[4:, 4:]"
   ]
  },
  {
   "cell_type": "code",
   "execution_count": 92,
   "id": "ba6d0f61",
   "metadata": {},
   "outputs": [
    {
     "data": {
      "text/plain": [
       "array([ 2,  8, 14, 20, 26, 32])"
      ]
     },
     "execution_count": 92,
     "metadata": {},
     "output_type": "execute_result"
    }
   ],
   "source": [
    "a[:,2]"
   ]
  },
  {
   "cell_type": "code",
   "execution_count": 94,
   "id": "9d7e6c7d",
   "metadata": {},
   "outputs": [
    {
     "data": {
      "text/plain": [
       "array([[12, 14, 16],\n",
       "       [24, 26, 28]])"
      ]
     },
     "execution_count": 94,
     "metadata": {},
     "output_type": "execute_result"
    }
   ],
   "source": [
    "a[2::2, ::2]"
   ]
  },
  {
   "cell_type": "code",
   "execution_count": 96,
   "id": "2fa4a9df",
   "metadata": {},
   "outputs": [
    {
     "data": {
      "text/plain": [
       "array([[ 0,  1,  2,  3,  4,  5],\n",
       "       [ 6,  7,  8,  9, 10, 11],\n",
       "       [12, 13, 14, 15, 16, 17],\n",
       "       [18, 19, 20, 21, 22, 23],\n",
       "       [24, 25, 26, 27, 28, 29],\n",
       "       [30, 31, 32, 33, 34, 35]])"
      ]
     },
     "execution_count": 96,
     "metadata": {},
     "output_type": "execute_result"
    }
   ],
   "source": [
    "a[0::1,::1]"
   ]
  },
  {
   "cell_type": "code",
   "execution_count": 97,
   "id": "7d39d858",
   "metadata": {},
   "outputs": [
    {
     "name": "stdout",
     "output_type": "stream",
     "text": [
      "[[ 2  5]\n",
      " [ 8 11]]\n"
     ]
    }
   ],
   "source": [
    "# Python program for indexing using basic slicing with ellipsis\n",
    "# A 3 dimensional array.\n",
    "b = np.array([[[1, 2, 3],[4, 5, 6]],\n",
    "              [[7, 8, 9],[10, 11, 12]]])\n",
    " \n",
    "print(b[...,1]) #Equivalent to b[: ,: ,1 ]"
   ]
  },
  {
   "cell_type": "code",
   "execution_count": 98,
   "id": "59de0b4e",
   "metadata": {},
   "outputs": [
    {
     "name": "stdout",
     "output_type": "stream",
     "text": [
      "[1 3 6]\n"
     ]
    }
   ],
   "source": [
    "a = np.array([[1 ,2 ],[3 ,4 ],[5 ,6 ]])\n",
    "print(a[[0 ,1 ,2 ],[0 ,0 ,1]])"
   ]
  },
  {
   "cell_type": "code",
   "execution_count": 104,
   "id": "5319a9fc",
   "metadata": {},
   "outputs": [
    {
     "name": "stdout",
     "output_type": "stream",
     "text": [
      "[[4 5]]\n",
      "[[4 5]]\n"
     ]
    }
   ],
   "source": [
    "# Python program showing advanced and basic indexing\n",
    " \n",
    "a = np.array([[0 ,1 ,2],[3 ,4 ,5 ],\n",
    "              [6 ,7 ,8],[9 ,10 ,11]])\n",
    " \n",
    "print(a[1:2 ,1:3 ])\n",
    "print(a[1:2 ,[1,2]])"
   ]
  },
  {
   "cell_type": "code",
   "execution_count": 105,
   "id": "503f8248",
   "metadata": {},
   "outputs": [
    {
     "name": "stdout",
     "output_type": "stream",
     "text": [
      "[ 80 100]\n"
     ]
    }
   ],
   "source": [
    "#boolen array indexing\n",
    "# You may wish to select numbers greater than 50\n",
    "import numpy as np\n",
    " \n",
    "a = np.array([10, 40, 80, 50, 100])\n",
    "print(a[a>50])"
   ]
  },
  {
   "cell_type": "code",
   "execution_count": 108,
   "id": "f17e6e8f",
   "metadata": {},
   "outputs": [
    {
     "name": "stdout",
     "output_type": "stream",
     "text": [
      "[1600 6400]\n"
     ]
    }
   ],
   "source": [
    "a = np.array([10, 40, 80, 50, 100])  #You may wish to square the multiples of 40 \n",
    "print(a[a%40==0]**2)"
   ]
  },
  {
   "cell_type": "code",
   "execution_count": 107,
   "id": "f1a12eb1",
   "metadata": {},
   "outputs": [
    {
     "name": "stdout",
     "output_type": "stream",
     "text": [
      "[[ 5  5]\n",
      " [16  4]]\n"
     ]
    }
   ],
   "source": [
    "b = np.array([[5, 5],[4, 5],[16, 4]])   # sum of row is a multiple of 10.\n",
    "sumrow = b.sum(-1)\n",
    "print(b[sumrow%10==0])"
   ]
  },
  {
   "cell_type": "code",
   "execution_count": null,
   "id": "d8539c99",
   "metadata": {},
   "outputs": [],
   "source": []
  },
  {
   "cell_type": "code",
   "execution_count": null,
   "id": "ab054e51",
   "metadata": {},
   "outputs": [],
   "source": []
  },
  {
   "cell_type": "code",
   "execution_count": null,
   "id": "bbed72f4",
   "metadata": {},
   "outputs": [],
   "source": []
  },
  {
   "cell_type": "code",
   "execution_count": null,
   "id": "2b97c021",
   "metadata": {},
   "outputs": [],
   "source": []
  },
  {
   "cell_type": "code",
   "execution_count": null,
   "id": "bbf4b13e",
   "metadata": {},
   "outputs": [],
   "source": []
  },
  {
   "cell_type": "code",
   "execution_count": null,
   "id": "407ba4ea",
   "metadata": {},
   "outputs": [],
   "source": []
  },
  {
   "cell_type": "code",
   "execution_count": null,
   "id": "08b697f6",
   "metadata": {},
   "outputs": [],
   "source": []
  },
  {
   "cell_type": "code",
   "execution_count": null,
   "id": "16ecd2c9",
   "metadata": {},
   "outputs": [],
   "source": []
  }
 ],
 "metadata": {
  "gist": {
   "data": {
    "description": "Untitled7.ipynb",
    "public": true
   },
   "id": ""
  },
  "kernelspec": {
   "display_name": "Python 3",
   "language": "python",
   "name": "python3"
  },
  "language_info": {
   "codemirror_mode": {
    "name": "ipython",
    "version": 3
   },
   "file_extension": ".py",
   "mimetype": "text/x-python",
   "name": "python",
   "nbconvert_exporter": "python",
   "pygments_lexer": "ipython3",
   "version": "3.8.8"
  }
 },
 "nbformat": 4,
 "nbformat_minor": 5
}
